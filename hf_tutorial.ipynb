{
 "cells": [
  {
   "cell_type": "markdown",
   "metadata": {},
   "source": [
    "## Source environment\n"
   ]
  },
  {
   "cell_type": "code",
   "execution_count": 1,
   "metadata": {},
   "outputs": [],
   "source": [
    "\n",
    "import envbash\n",
    "envbash.load.load_envbash('.env')\n",
    "from dmsensei.huggingface import upload_dataset, get_dataset\n"
   ]
  },
  {
   "cell_type": "markdown",
   "metadata": {},
   "source": [
    "## Upload dataset\n"
   ]
  },
  {
   "cell_type": "code",
   "execution_count": 3,
   "metadata": {},
   "outputs": [
    {
     "data": {
      "application/vnd.jupyter.widget-view+json": {
       "model_id": "95948f878a69489aad67766323c9cebd",
       "version_major": 2,
       "version_minor": 0
      },
      "text/plain": [
       "ribo-LQ.json:   0%|          | 0.00/2.83G [00:00<?, ?B/s]"
      ]
     },
     "metadata": {},
     "output_type": "display_data"
    },
    {
     "data": {
      "application/vnd.jupyter.widget-view+json": {
       "model_id": "117d12a2e182474d99c1037787f7e09e",
       "version_major": 2,
       "version_minor": 0
      },
      "text/plain": [
       "ribo-HQ.json:   0%|          | 0.00/800M [00:00<?, ?B/s]"
      ]
     },
     "metadata": {},
     "output_type": "display_data"
    },
    {
     "data": {
      "application/vnd.jupyter.widget-view+json": {
       "model_id": "920603b9e4e846c98a8342000c9d08f6",
       "version_major": 2,
       "version_minor": 0
      },
      "text/plain": [
       "blast-HQ.json:   0%|          | 0.00/479M [00:00<?, ?B/s]"
      ]
     },
     "metadata": {},
     "output_type": "display_data"
    },
    {
     "data": {
      "application/vnd.jupyter.widget-view+json": {
       "model_id": "7719d0c8a0394fb48016d12bc24b52d8",
       "version_major": 2,
       "version_minor": 0
      },
      "text/plain": [
       "blast-LQ.json:   0%|          | 0.00/1.62G [00:00<?, ?B/s]"
      ]
     },
     "metadata": {},
     "output_type": "display_data"
    }
   ],
   "source": [
    "upload_dataset(\n",
    "    '/Users/yvesmartin/data/ribonanza/bpp_error_merged_cleaned/ribo-test.json',\n",
    "    exist_ok=True,\n",
    "    commit_message=None,\n",
    "    add_card=True,\n",
    ")"
   ]
  },
  {
   "cell_type": "markdown",
   "metadata": {},
   "source": [
    "## Download dataset"
   ]
  },
  {
   "cell_type": "code",
   "execution_count": null,
   "metadata": {},
   "outputs": [],
   "source": [
    "## Get dataset\n",
    "get_dataset(\n",
    "    \"blast-LQ-noHQ\",\n",
    "    force_download=True,\n",
    ")"
   ]
  }
 ],
 "metadata": {
  "kernelspec": {
   "display_name": "Python 3",
   "language": "python",
   "name": "python3"
  },
  "language_info": {
   "codemirror_mode": {
    "name": "ipython",
    "version": 3
   },
   "file_extension": ".py",
   "mimetype": "text/x-python",
   "name": "python",
   "nbconvert_exporter": "python",
   "pygments_lexer": "ipython3",
   "version": "3.11.6"
  }
 },
 "nbformat": 4,
 "nbformat_minor": 2
}

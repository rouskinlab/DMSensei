{
 "cells": [
  {
   "cell_type": "markdown",
   "metadata": {},
   "source": [
    "# Push the model's prediction to Kaggle\n",
    "\n",
    "### Load the model and the data\n"
   ]
  },
  {
   "cell_type": "code",
   "execution_count": null,
   "metadata": {},
   "outputs": [],
   "source": [
    "import pickle\n",
    "import numpy as np\n",
    "import pandas as pd\n",
    "from lightning.pytorch import Trainer\n",
    "import os, sys\n",
    "sys.path.append(os.path.abspath(os.path.join(os.getcwd(), os.pardir)))\n",
    "from dmsensei.core import DataModule\n",
    "\n",
    "model = pickle.load(open('model.pkl','rb'))\n",
    "trainer = Trainer()"
   ]
  },
  {
   "cell_type": "markdown",
   "metadata": {},
   "source": [
    "### Run the prediction"
   ]
  },
  {
   "cell_type": "code",
   "execution_count": null,
   "metadata": {},
   "outputs": [],
   "source": [
    "prediction = trainer.predict(\n",
    "        model,\n",
    "        datamodule=DataModule(\n",
    "            name=[\"ribo-test\"],\n",
    "            data='sequence',\n",
    "            force_download=False,\n",
    "            batch_size=256,\n",
    "            num_workers=1,\n",
    "            train_split=0,\n",
    "            valid_split=0,\n",
    "            predict_split=1.,\n",
    "            overfit_mode=False,\n",
    "        ),\n",
    "    )"
   ]
  },
  {
   "cell_type": "markdown",
   "metadata": {},
   "source": [
    "### Format the prediction and save it locally"
   ]
  },
  {
   "cell_type": "code",
   "execution_count": null,
   "metadata": {},
   "outputs": [],
   "source": [
    "def format_to_ribonanza(prediction):\n",
    "    prediction = np.vstack([np.array(a).reshape(-1, 2).round(3) for a in prediction])\n",
    "    return pd.DataFrame(prediction, columns=[\"reactivity_DMS_MaP\", \"reactivity_2A3_MaP\"]).reset_index().rename(columns={\"index\": \"id\"})\n",
    "\n",
    "format_to_ribonanza(prediction).to_csv('submission.csv', index=False)"
   ]
  },
  {
   "cell_type": "markdown",
   "metadata": {},
   "source": [
    "### Push the prediction to Kaggle\n",
    "\n",
    "Note: setup your Kaggle authentification first:\n",
    "1. download your Kaggle API keys `kaggle.json` here: https://www.kaggle.com/settings/account\n",
    "2. save it to `~/.kaggle/kaggle.json`:\n",
    "\n",
    "    ```bash\n",
    "    mv ~/Downloads/kaggle.json ~/.kaggle/kaggle.json\n",
    "    ```\n",
    "3. push your results to kaggle using the following line"
   ]
  },
  {
   "cell_type": "code",
   "execution_count": null,
   "metadata": {},
   "outputs": [],
   "source": [
    "os.system('kaggle competitions submit -c stanford-ribonanza-rna-folding -f out.csv -m \"test commit\"')"
   ]
  }
 ],
 "metadata": {
  "kernelspec": {
   "display_name": "Python 3",
   "language": "python",
   "name": "python3"
  },
  "language_info": {
   "codemirror_mode": {
    "name": "ipython",
    "version": 3
   },
   "file_extension": ".py",
   "mimetype": "text/x-python",
   "name": "python",
   "nbconvert_exporter": "python",
   "pygments_lexer": "ipython3",
   "version": "3.11.6"
  }
 },
 "nbformat": 4,
 "nbformat_minor": 2
}

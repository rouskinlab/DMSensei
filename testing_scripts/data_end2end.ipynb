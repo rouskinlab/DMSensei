{
 "cells": [
  {
   "cell_type": "code",
   "execution_count": 3,
   "metadata": {},
   "outputs": [],
   "source": [
    "%reload_ext autoreload\n",
    "%autoreload 2\n",
    "import sys, os\n",
    "sys.path.append(os.path.abspath(os.path.join('..')))\n",
    "\n",
    "from dmsensei import DataModule, create_model, Dataset\n",
    "from dmsensei.config import device\n",
    "from dmsensei.core.callbacks import WandbFitLogger, KaggleLogger\n",
    "from lightning.pytorch.callbacks import LearningRateMonitor\n",
    "from lightning.pytorch import Trainer\n",
    "from dmsensei.config import device\n",
    "import sys\n",
    "import os\n",
    "from lightning.pytorch.loggers import WandbLogger\n",
    "import torch, wandb\n",
    "import numpy as np\n",
    "\n"
   ]
  },
  {
   "cell_type": "code",
   "execution_count": 24,
   "metadata": {},
   "outputs": [
    {
     "name": "stdout",
     "output_type": "stream",
     "text": [
      "Loading dataset from disk\n",
      "Done!                            \n",
      "Loading dataset from disk\n",
      "Done!                            \n",
      "Loading dataset from disk\n",
      "Done!                            \n",
      "bpRNA: Downloading dataset from HuggingFace Hub...\n"
     ]
    },
    {
     "data": {
      "application/vnd.jupyter.widget-view+json": {
       "model_id": "a401c770cdb6405b95b68ea04bc58036",
       "version_major": 2,
       "version_minor": 0
      },
      "text/plain": [
       "Fetching 1 files:   0%|          | 0/1 [00:00<?, ?it/s]"
      ]
     },
     "metadata": {},
     "output_type": "display_data"
    },
    {
     "name": "stdout",
     "output_type": "stream",
     "text": [
      "bpRNA: Download complete. File saved at data/bpRNA/data.json\n",
      "Loading dataset from HF\n",
      "Done!                            \n"
     ]
    }
   ],
   "source": [
    "dm = DataModule(\n",
    "    name=[\"RNAstralign\", \"archiveII\", \"ribo500-blast\", 'bpRNA'],\n",
    "    data_type=[\"dms\", 'shape', 'structure'],\n",
    "    train_split=None,\n",
    "    force_download=False,\n",
    "    batch_size=64,\n",
    "    num_workers=0,\n",
    "    valid_split=2048,\n",
    "    predict_split=0,\n",
    "    overfit_mode=True,\n",
    "    shuffle_valid=False,\n",
    "    use_error=False,\n",
    "    max_len=177,\n",
    "    structure_padding_value=0,\n",
    ")\n",
    "dm.setup('fit')"
   ]
  },
  {
   "cell_type": "code",
   "execution_count": 19,
   "metadata": {},
   "outputs": [
    {
     "name": "stdout",
     "output_type": "stream",
     "text": [
      "tensor([[-1000., -1000., -1000.,  ..., -1000., -1000., -1000.],\n",
      "        [-1000., -1000., -1000.,  ..., -1000., -1000., -1000.],\n",
      "        [-1000., -1000., -1000.,  ..., -1000., -1000., -1000.],\n",
      "        ...,\n",
      "        [-1000., -1000., -1000.,  ..., -1000., -1000., -1000.],\n",
      "        [-1000., -1000., -1000.,  ..., -1000., -1000., -1000.],\n",
      "        [-1000., -1000., -1000.,  ..., -1000., -1000., -1000.]],\n",
      "       device='mps:0')\n"
     ]
    }
   ],
   "source": [
    "for batch in dm.train_dataloader():\n",
    "    print(batch.get('dms'))\n",
    "    break"
   ]
  },
  {
   "cell_type": "code",
   "execution_count": 20,
   "metadata": {},
   "outputs": [],
   "source": [
    "import json\n",
    "\n",
    "name = 'yack'\n",
    "names = [\"RNAstralign\", \"archiveII\", \"ribo500-blast\", 'bpRNA']\n",
    "data = {**json.load(open(f'./data/{name}/data.json')) for name in names}"
   ]
  },
  {
   "cell_type": "code",
   "execution_count": 25,
   "metadata": {},
   "outputs": [
    {
     "name": "stderr",
     "output_type": "stream",
     "text": [
      "  0%|          | 0/2006 [00:00<?, ?it/s]\n"
     ]
    },
    {
     "ename": "KeyError",
     "evalue": "'bpRNA_CRW_20959'",
     "output_type": "error",
     "traceback": [
      "\u001b[0;31m---------------------------------------------------------------------------\u001b[0m",
      "\u001b[0;31mKeyError\u001b[0m                                  Traceback (most recent call last)",
      "Cell \u001b[0;32mIn[25], line 30\u001b[0m\n\u001b[1;32m     27\u001b[0m             \u001b[38;5;28;01mfor\u001b[39;00m dt, from_ds \u001b[38;5;129;01min\u001b[39;00m \u001b[38;5;28mzip\u001b[39m([\u001b[38;5;124m'\u001b[39m\u001b[38;5;124mdms\u001b[39m\u001b[38;5;124m'\u001b[39m, \u001b[38;5;124m'\u001b[39m\u001b[38;5;124mshape\u001b[39m\u001b[38;5;124m'\u001b[39m, \u001b[38;5;124m'\u001b[39m\u001b[38;5;124mstructure\u001b[39m\u001b[38;5;124m'\u001b[39m], [dms, shape, structure]):\n\u001b[1;32m     28\u001b[0m                 compare_data(dt, data[ref], from_ds, ref)\n\u001b[0;32m---> 30\u001b[0m \u001b[43msanity_check\u001b[49m\u001b[43m(\u001b[49m\u001b[43mdata\u001b[49m\u001b[43m,\u001b[49m\u001b[43m \u001b[49m\u001b[43mdm\u001b[49m\u001b[43m)\u001b[49m\n",
      "Cell \u001b[0;32mIn[25], line 28\u001b[0m, in \u001b[0;36msanity_check\u001b[0;34m(data, dm)\u001b[0m\n\u001b[1;32m     26\u001b[0m \u001b[38;5;28;01mfor\u001b[39;00m ref, dms, shape, structure \u001b[38;5;129;01min\u001b[39;00m \u001b[38;5;28mzip\u001b[39m(batch\u001b[38;5;241m.\u001b[39mget(\u001b[38;5;124m'\u001b[39m\u001b[38;5;124mreference\u001b[39m\u001b[38;5;124m'\u001b[39m), batch\u001b[38;5;241m.\u001b[39mget(\u001b[38;5;124m'\u001b[39m\u001b[38;5;124mdms\u001b[39m\u001b[38;5;124m'\u001b[39m), batch\u001b[38;5;241m.\u001b[39mget(\u001b[38;5;124m'\u001b[39m\u001b[38;5;124mshape\u001b[39m\u001b[38;5;124m'\u001b[39m), batch\u001b[38;5;241m.\u001b[39mget(\u001b[38;5;124m'\u001b[39m\u001b[38;5;124mstructure\u001b[39m\u001b[38;5;124m'\u001b[39m)):\n\u001b[1;32m     27\u001b[0m     \u001b[38;5;28;01mfor\u001b[39;00m dt, from_ds \u001b[38;5;129;01min\u001b[39;00m \u001b[38;5;28mzip\u001b[39m([\u001b[38;5;124m'\u001b[39m\u001b[38;5;124mdms\u001b[39m\u001b[38;5;124m'\u001b[39m, \u001b[38;5;124m'\u001b[39m\u001b[38;5;124mshape\u001b[39m\u001b[38;5;124m'\u001b[39m, \u001b[38;5;124m'\u001b[39m\u001b[38;5;124mstructure\u001b[39m\u001b[38;5;124m'\u001b[39m], [dms, shape, structure]):\n\u001b[0;32m---> 28\u001b[0m         compare_data(dt, \u001b[43mdata\u001b[49m\u001b[43m[\u001b[49m\u001b[43mref\u001b[49m\u001b[43m]\u001b[49m, from_ds, ref)\n",
      "\u001b[0;31mKeyError\u001b[0m: 'bpRNA_CRW_20959'"
     ]
    }
   ],
   "source": [
    "from dmsensei.core.util import _pad, base_pairs_to_pairing_matrix\n",
    "import tqdm \n",
    "\n",
    "def compare_data(dt, data_line, from_ds, ref):\n",
    "    from_ds = from_ds.cpu().numpy().round(4)\n",
    "    \n",
    "    if not dt in data_line:\n",
    "        assert from_ds is None or set(from_ds) == set([-1000.]), f'{dt} is None in the json and not not in the datamodule for {ref}: {from_ds}'\n",
    "        return\n",
    "    L = len(data_line['sequence'])\n",
    "    data_line = np.array(data_line[dt])\n",
    "    \n",
    "    if dt == 'structure':\n",
    "        data_line = base_pairs_to_pairing_matrix(data_line, L, padding=len(from_ds), pad_value=0).numpy().round(4)\n",
    "\n",
    "    else:\n",
    "        from_ds = np.array(from_ds)[:L].round(4)\n",
    "        data_line = data_line.round(4)\n",
    "    \n",
    "    if not np.allclose(data_line, from_ds, atol=1e-6):\n",
    "        assert 0, f'{dt} keys do not match for {ref}: \\ndata_line:\\t{data_line.tolist()} \\nfrom_ds:\\t{from_ds.tolist()}'\n",
    "    return\n",
    "\n",
    "def sanity_check(data:dict, dm:DataModule):\n",
    "    for batch in tqdm.tqdm(dm.train_dataloader(), total=len(dm.train_dataloader())):\n",
    "        for ref, dms, shape, structure in zip(batch.get('reference'), batch.get('dms'), batch.get('shape'), batch.get('structure')):\n",
    "            for dt, from_ds in zip(['dms', 'shape', 'structure'], [dms, shape, structure]):\n",
    "                compare_data(dt, data[ref], from_ds, ref)\n",
    "\n",
    "sanity_check(data, dm)"
   ]
  }
 ],
 "metadata": {
  "kernelspec": {
   "display_name": "Python 3",
   "language": "python",
   "name": "python3"
  },
  "language_info": {
   "codemirror_mode": {
    "name": "ipython",
    "version": 3
   },
   "file_extension": ".py",
   "mimetype": "text/x-python",
   "name": "python",
   "nbconvert_exporter": "python",
   "pygments_lexer": "ipython3",
   "version": "3.11.6"
  }
 },
 "nbformat": 4,
 "nbformat_minor": 2
}

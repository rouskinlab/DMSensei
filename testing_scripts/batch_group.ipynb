{
 "cells": [
  {
   "cell_type": "code",
   "execution_count": 1,
   "metadata": {},
   "outputs": [],
   "source": [
    "%reload_ext autoreload\n",
    "%autoreload 2\n",
    "import sys, os\n",
    "sys.path.append(os.path.abspath(os.path.join('..')))\n",
    "\n",
    "from dmsensei import DataModule, create_model, Dataset\n",
    "from dmsensei.config import device\n",
    "from dmsensei.core.callbacks import WandbFitLogger, KaggleLogger\n",
    "from lightning.pytorch.callbacks import LearningRateMonitor\n",
    "from lightning.pytorch import Trainer\n",
    "from dmsensei.config import device\n",
    "import sys\n",
    "import os\n",
    "from lightning.pytorch.loggers import WandbLogger\n",
    "import torch, wandb\n",
    "import numpy as np\n",
    "\n",
    "\n",
    "dm = DataModule(\n",
    "    name=[\"utr\"],#, 'sarah_supermodel'],\n",
    "    data_type=[\"dms\", 'shape', 'structure'],\n",
    "    force_download=False,\n",
    "    batch_size=64,\n",
    "    structure_padding_value=0,\n",
    "    shuffle_valid=False,\n",
    "    shuffle_train=False,\n",
    "    buckets=[200, 300, 400, 500],\n",
    "    external_valid=['utr']\n",
    ")\n",
    "\n",
    "dm.setup('fit')\n",
    "\n",
    "\n",
    "import tqdm\n",
    "avg = []\n",
    "for batch in tqdm.tqdm(dm.train_dataloader(), total=len(dm.train_dataloader())):\n",
    "    avg.append(np.mean(batch.get('length')))\n",
    "\n",
    "import matplotlib.pyplot as plt\n",
    "plt.hist(avg)\n",
    "\n",
    "for batch in tqdm.tqdm(dm.val_dataloader()[0], total=len(dm.val_dataloader()[0])):\n",
    "    avg.append(np.mean(batch.get('length')))\n",
    "\n",
    "plt.figure()\n",
    "plt.hist(avg)"
   ]
  }
 ],
 "metadata": {
  "kernelspec": {
   "display_name": "Python 3",
   "language": "python",
   "name": "python3"
  },
  "language_info": {
   "codemirror_mode": {
    "name": "ipython",
    "version": 3
   },
   "file_extension": ".py",
   "mimetype": "text/x-python",
   "name": "python",
   "nbconvert_exporter": "python",
   "pygments_lexer": "ipython3",
   "version": "3.11.7"
  }
 },
 "nbformat": 4,
 "nbformat_minor": 2
}

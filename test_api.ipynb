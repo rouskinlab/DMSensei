{
 "cells": [
  {
   "cell_type": "code",
   "execution_count": null,
   "metadata": {},
   "outputs": [],
   "source": [
    "%load_ext autoreload\n",
    "%autoreload 2\n",
    "\n",
    "from efold.api import efold_run\n",
    "\n",
    "print(efold_run(['ACAGCAGAUCGAUCGAUCAUCGAUCGAU', 'ACAGCAGAUCGAUCGAUCAUCGAUCG']))\n",
    "print(efold_run(\"/Users/yvesmartin/src/eFold/k.fasta\"))\n",
    "print(efold_run('ACAGCAGAUCGAUCGAUCAUCGAUCGAU'))\n"
   ]
  }
 ],
 "metadata": {
  "kernelspec": {
   "display_name": "Python 3",
   "language": "python",
   "name": "python3"
  },
  "language_info": {
   "codemirror_mode": {
    "name": "ipython",
    "version": 3
   },
   "file_extension": ".py",
   "mimetype": "text/x-python",
   "name": "python",
   "nbconvert_exporter": "python",
   "pygments_lexer": "ipython3",
   "version": "3.11.6"
  }
 },
 "nbformat": 4,
 "nbformat_minor": 2
}

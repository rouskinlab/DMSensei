{
 "cells": [
  {
   "cell_type": "code",
   "execution_count": 100,
   "metadata": {},
   "outputs": [
    {
     "name": "stdout",
     "output_type": "stream",
     "text": [
      "The autoreload extension is already loaded. To reload it, use:\n",
      "  %reload_ext autoreload\n",
      "No scaling, use preLN\n",
      "Replace GLU with swish for Conv\n",
      "No scaling, use preLN\n",
      "Replace GLU with swish for Conv\n",
      "No scaling, use preLN\n",
      "Replace GLU with swish for Conv\n",
      "No scaling, use preLN\n",
      "Replace GLU with swish for Conv\n",
      "{'ACAGCAGAUCGAUCGAUCAUCGAUCGAU': [(8, 28), (9, 27), (10, 26), (11, 25), (12, 24), (13, 23), (14, 22), (15, 21), (16, 20)], 'ACAGCAGAUCGAUCGAUCAUCGAUCG': [(10, 26), (11, 25), (12, 24), (13, 23), (14, 22), (15, 21), (16, 20)]}\n",
      "No scaling, use preLN\n",
      "Replace GLU with swish for Conv\n",
      "No scaling, use preLN\n",
      "Replace GLU with swish for Conv\n",
      "No scaling, use preLN\n",
      "Replace GLU with swish for Conv\n",
      "No scaling, use preLN\n",
      "Replace GLU with swish for Conv\n",
      "{'ACAGCAGAUCGAUCGAUCAUCGAUCGAU': [(8, 28), (9, 27), (10, 26), (11, 25), (12, 24), (13, 23), (14, 22), (15, 21), (16, 20)]}\n"
     ]
    }
   ],
   "source": [
    "%load_ext autoreload\n",
    "%autoreload 2\n",
    "\n",
    "from efold.api import efold_run\n",
    "\n",
    "print(efold_run(['ACAGCAGAUCGAUCGAUCAUCGAUCGAU', 'ACAGCAGAUCGAUCGAUCAUCGAUCG']))\n",
    "# print(efold_run(\"/Users/yvesmartin/src/eFold/k.fasta\"))\n",
    "print(efold_run('ACAGCAGAUCGAUCGAUCAUCGAUCGAU'))\n"
   ]
  }
 ],
 "metadata": {
  "kernelspec": {
   "display_name": "Python 3",
   "language": "python",
   "name": "python3"
  },
  "language_info": {
   "codemirror_mode": {
    "name": "ipython",
    "version": 3
   },
   "file_extension": ".py",
   "mimetype": "text/x-python",
   "name": "python",
   "nbconvert_exporter": "python",
   "pygments_lexer": "ipython3",
   "version": "3.11.6"
  }
 },
 "nbformat": 4,
 "nbformat_minor": 2
}
